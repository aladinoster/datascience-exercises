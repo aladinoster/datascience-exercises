{
 "cells": [
  {
   "cell_type": "markdown",
   "metadata": {},
   "source": [
    "# Notebook Practice\n",
    "\n",
    "In case you do not dispose from a local environment please launch this repository from \n",
    "\n",
    "[![Binder](https://mybinder.org/badge_logo.svg)](https://mybinder.org/v2/gh/aladinoster/datascience-exercises/HEAD?labpath=notebook-practice.ipynb) \n",
    "[![Colab](https://colab.research.google.com/assets/colab-badge.svg)](https://colab.research.google.com/github/aladinoster/datascience-exercises/blob/main/notebook-practice.ipynb)"
   ]
  },
  {
   "cell_type": "markdown",
   "metadata": {},
   "source": [
    "## Situational description \n",
    "\n",
    "Within the folder `data/` you will find multiple files containing events from  a time series, this events correspond to messages received from trains \n",
    "where each line corresponds to an event registred by the train. \n",
    "\n",
    "1. For this case only few codes have been selected.\n",
    "2. A regular table contains the following structure:\n",
    "\n",
    "| Date       | Hour    | State | Code                   | Train | CarNumber | Equipement | Pressure |\n",
    "|------------|----------|-------|------------------------|-------|-----------|------------|----------|\n",
    "| 2022-11-01 | 23:52:18 | App   | Pressure | TR_105 | C5        | 3D         | 2.94     |\n",
    "\n",
    "Where corresponds to: \n",
    "- `Date`  the date of the event\n",
    "- `Hour`  the hour of the event\n",
    "- `State` a binary value determining wether the event has appeared or dissappeared. This means the event has a duration that can be computed \n",
    "  between the arrival (App) and its subsequent dissapeareance (Disp)\n",
    "- `Code`  the code concerned\n",
    "- `Train` the involved Train\n",
    "- `CarNumber` the involved wagon\n",
    "- `Equipement` the impacted equipement within the wagon. (For example a specific door of a wagon)\n",
    "\n",
    "### Questions to Answer \n",
    "\n",
    "Extract information within the files into a `DataFrame` and examine the following questions:\n",
    "\n",
    "1. How many trains are observed? \n",
    "2. Which are the potential wagon names? \n",
    "3. What are the name of the different equipements found in the dataset? \n",
    "4. Which periods of time are involved within the analysis?\n",
    "5. Which is the `Code` which is more frequently sent? \n",
    "6. How many messages per day can be observed along the whole fleet?\n",
    "7. Which is the average time between the arrival and the disappearence of an event?\n",
    "8. What is the average pressure per day along the fleet? (Plot this timeseries)\n",
    "9. In case you can propose to forecast ahead the pressure what would this be? \n",
    "10. Implement this model!"
   ]
  },
  {
   "cell_type": "markdown",
   "metadata": {},
   "source": []
  }
 ],
 "metadata": {
  "kernelspec": {
   "display_name": ".venv",
   "language": "python",
   "name": "python3"
  },
  "language_info": {
   "codemirror_mode": {
    "name": "ipython",
    "version": 3
   },
   "file_extension": ".py",
   "mimetype": "text/x-python",
   "name": "python",
   "nbconvert_exporter": "python",
   "pygments_lexer": "ipython3",
   "version": "3.10.9"
  }
 },
 "nbformat": 4,
 "nbformat_minor": 2
}
